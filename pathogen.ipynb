{
 "cells": [
  {
   "cell_type": "code",
   "execution_count": 124,
   "metadata": {},
   "outputs": [],
   "source": [
    "import csv\n",
    "import numpy as np\n",
    "\n",
    "file_name = 'pathogen_data_reworked_2.0.csv'\n",
    "\n",
    "with open(file_name, 'r') as f:\n",
    "    data = list(csv.reader(f, delimiter=\";\"))\n",
    "\n",
    "data = data[1:]"
   ]
  },
  {
   "cell_type": "code",
   "execution_count": 137,
   "metadata": {},
   "outputs": [],
   "source": [
    "def find_pathogen(words, result_amount):\n",
    "\n",
    "    all_pathogen_hit_list = {}\n",
    "\n",
    "    for pathogen_data in data:\n",
    "        pathogen = pathogen_data[0]\n",
    "        pathogen_hit_list = []\n",
    "\n",
    "        for i in range(1, len(pathogen_data)):\n",
    "            for word in words:\n",
    "                if word.lower() in pathogen_data[i].lower():\n",
    "                    pathogen_hit_list.append(word)\n",
    "        \n",
    "        all_pathogen_hit_list[pathogen] = pathogen_hit_list\n",
    "    \n",
    "    sort_orders = sorted(all_pathogen_hit_list.items(), key=lambda x: len(x[1]), reverse=True)\n",
    "\n",
    "\n",
    "    for i in range(len(sort_orders)):\n",
    "        result = sort_orders[i]\n",
    "        if i < result_amount and len(result[1]) != 0:\n",
    "            print(\"----------\\n|\",  f\"{result[0].replace(',', '')}:\", result[1], \"\\n----------\")\n",
    "        else:\n",
    "            return\n",
    "    \n"
   ]
  },
  {
   "cell_type": "code",
   "execution_count": 138,
   "metadata": {},
   "outputs": [
    {
     "name": "stdout",
     "output_type": "stream",
     "text": [
      "----------\n",
      "| listeria: ['soil'] \n",
      "----------\n",
      "----------\n",
      "| clostridium perfringes: ['soil'] \n",
      "----------\n"
     ]
    }
   ],
   "source": [
    "find_pathogen([\"soil\", \"blisters\", \"toxic shock syndrome\"], 2)"
   ]
  }
 ],
 "metadata": {
  "interpreter": {
   "hash": "19bbe116319a3d197a3ddb38a16045fea2deda13e9c9b86a0bbeaa5509e6cc3c"
  },
  "kernelspec": {
   "display_name": "Python 3.9.7 ('base')",
   "language": "python",
   "name": "python3"
  },
  "language_info": {
   "codemirror_mode": {
    "name": "ipython",
    "version": 3
   },
   "file_extension": ".py",
   "mimetype": "text/x-python",
   "name": "python",
   "nbconvert_exporter": "python",
   "pygments_lexer": "ipython3",
   "version": "3.9.7"
  },
  "orig_nbformat": 4
 },
 "nbformat": 4,
 "nbformat_minor": 2
}
